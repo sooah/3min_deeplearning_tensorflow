{
 "cells": [
  {
   "cell_type": "markdown",
   "metadata": {},
   "source": [
    "## 6.2 Dropout\n",
    "\n",
    "overfitting : 학습한 결과가 train data에는 매우 잘 맞지만, train data에 너무 꼭 맞춰져 있어서 그 외의 데이터(ex.test data)에는 잘 맞지 않는 상황\n",
    "\n",
    "-> Machine Learning에서 매우 중요한 과제! => 이를 해결하기 위한 연구 활발\n",
    "\n",
    "-> 그 중 가장 효과 좋은 방법 : **Dropout(드롭아웃)**"
   ]
  },
  {
   "cell_type": "markdown",
   "metadata": {},
   "source": [
    "### Dropout\n",
    "\n",
    "학습 시 전체 신경망 중 일부만을 사용하도록 하는 것!\n",
    "\n",
    "-> 학습 단계마다 일부 뉴런을 제거(사용하지 않도록) \n",
    "\n",
    "=> 일부 feature가 특정 뉴런들에 고정되는 것을 막음 -> weight의 균형을 잡도록! -> overfitting 방지\n",
    "\n",
    "but 학습 시 일부 뉴련을 학습 시키지 않음 -> 충분한 학습까지 시간이 좀 더 걸림"
   ]
  },
  {
   "cell_type": "code",
   "execution_count": 1,
   "metadata": {},
   "outputs": [
    {
     "name": "stderr",
     "output_type": "stream",
     "text": [
      "C:\\Users\\soual\\Anaconda3\\lib\\site-packages\\h5py\\__init__.py:36: FutureWarning: Conversion of the second argument of issubdtype from `float` to `np.floating` is deprecated. In future, it will be treated as `np.float64 == np.dtype(float).type`.\n",
      "  from ._conv import register_converters as _register_converters\n"
     ]
    },
    {
     "name": "stdout",
     "output_type": "stream",
     "text": [
      "WARNING:tensorflow:From <ipython-input-1-08120b86ec34>:5: read_data_sets (from tensorflow.contrib.learn.python.learn.datasets.mnist) is deprecated and will be removed in a future version.\n",
      "Instructions for updating:\n",
      "Please use alternatives such as official/mnist/dataset.py from tensorflow/models.\n",
      "WARNING:tensorflow:From C:\\Users\\soual\\Anaconda3\\lib\\site-packages\\tensorflow\\contrib\\learn\\python\\learn\\datasets\\mnist.py:260: maybe_download (from tensorflow.contrib.learn.python.learn.datasets.base) is deprecated and will be removed in a future version.\n",
      "Instructions for updating:\n",
      "Please write your own downloading logic.\n",
      "WARNING:tensorflow:From C:\\Users\\soual\\Anaconda3\\lib\\site-packages\\tensorflow\\contrib\\learn\\python\\learn\\datasets\\mnist.py:262: extract_images (from tensorflow.contrib.learn.python.learn.datasets.mnist) is deprecated and will be removed in a future version.\n",
      "Instructions for updating:\n",
      "Please use tf.data to implement this functionality.\n",
      "Extracting ./mnist/data/train-images-idx3-ubyte.gz\n",
      "WARNING:tensorflow:From C:\\Users\\soual\\Anaconda3\\lib\\site-packages\\tensorflow\\contrib\\learn\\python\\learn\\datasets\\mnist.py:267: extract_labels (from tensorflow.contrib.learn.python.learn.datasets.mnist) is deprecated and will be removed in a future version.\n",
      "Instructions for updating:\n",
      "Please use tf.data to implement this functionality.\n",
      "Extracting ./mnist/data/train-labels-idx1-ubyte.gz\n",
      "WARNING:tensorflow:From C:\\Users\\soual\\Anaconda3\\lib\\site-packages\\tensorflow\\contrib\\learn\\python\\learn\\datasets\\mnist.py:110: dense_to_one_hot (from tensorflow.contrib.learn.python.learn.datasets.mnist) is deprecated and will be removed in a future version.\n",
      "Instructions for updating:\n",
      "Please use tf.one_hot on tensors.\n",
      "Extracting ./mnist/data/t10k-images-idx3-ubyte.gz\n",
      "Extracting ./mnist/data/t10k-labels-idx1-ubyte.gz\n",
      "WARNING:tensorflow:From C:\\Users\\soual\\Anaconda3\\lib\\site-packages\\tensorflow\\contrib\\learn\\python\\learn\\datasets\\mnist.py:290: DataSet.__init__ (from tensorflow.contrib.learn.python.learn.datasets.mnist) is deprecated and will be removed in a future version.\n",
      "Instructions for updating:\n",
      "Please use alternatives such as official/mnist/dataset.py from tensorflow/models.\n"
     ]
    }
   ],
   "source": [
    "import tensorflow as tf\n",
    "import numpy as np\n",
    "\n",
    "from tensorflow.examples.tutorials.mnist import input_data\n",
    "mnist = input_data.read_data_sets(\"./mnist/data/\", one_hot = True)\n",
    "\n",
    "X = tf.placeholder(tf.float32, [None, 784])\n",
    "Y = tf.placeholder(tf.float32, [None, 10])"
   ]
  },
  {
   "cell_type": "code",
   "execution_count": 14,
   "metadata": {},
   "outputs": [],
   "source": [
    "keep_prob = tf.placeholder(tf.float32)\n",
    "\n",
    "W1 = tf.Variable(tf.random_normal([784, 256], stddev=0.01))\n",
    "L1 = tf.nn.relu(tf.matmul(X, W1))\n",
    "L1 = tf.nn.dropout(L1, keep_prob)\n",
    "\n",
    "W2 = tf.Variable(tf.random_normal([256, 256], stddev = 0.01))\n",
    "L2 = tf.nn.relu(tf.matmul(L1, W2))\n",
    "L2 = tf.nn.dropout(L2, keep_prob)\n",
    "\n",
    "W3 = tf.Variable(tf.random_normal([256, 10], stddev = 0.01))\n",
    "model = tf.matmul(L2, W3)"
   ]
  },
  {
   "cell_type": "markdown",
   "metadata": {},
   "source": [
    "손글씨 인식 모델에 dropout 적용 -> **tf.nn.dropout** 함수를 사용하기만 하면 됨!\n",
    "\n",
    "이때, keep_prob은 0.8을 사용해 줄 것임! -> 0.8 : 사용할 뉴런의 비율 의미! (해당 계층의 약 80%의 뉴런만 사용)\n",
    "\n",
    "**주의**\n",
    "\n",
    "dropout을 사용하더라도 학습이 끝난 뒤 예측시에는 신경망 전체를 사용해야함! \n",
    "\n",
    "-> keep_prob 의 placeholder를 만듦 -> 학습 시 0.8을 넣어 dropout 사용 -> 예측시에는 1을 넣어 신경망 전체를 사용!"
   ]
  },
  {
   "cell_type": "code",
   "execution_count": 15,
   "metadata": {},
   "outputs": [
    {
     "name": "stdout",
     "output_type": "stream",
     "text": [
      "Epoch:  0001 Avg. cost =  0.428\n",
      "Epoch:  0002 Avg. cost =  0.166\n",
      "Epoch:  0003 Avg. cost =  0.112\n",
      "Epoch:  0004 Avg. cost =  0.088\n",
      "Epoch:  0005 Avg. cost =  0.071\n",
      "Epoch:  0006 Avg. cost =  0.062\n",
      "Epoch:  0007 Avg. cost =  0.051\n",
      "Epoch:  0008 Avg. cost =  0.046\n",
      "Epoch:  0009 Avg. cost =  0.038\n",
      "Epoch:  0010 Avg. cost =  0.036\n",
      "Epoch:  0011 Avg. cost =  0.032\n",
      "Epoch:  0012 Avg. cost =  0.031\n",
      "Epoch:  0013 Avg. cost =  0.029\n",
      "Epoch:  0014 Avg. cost =  0.028\n",
      "Epoch:  0015 Avg. cost =  0.025\n",
      "Epoch:  0016 Avg. cost =  0.026\n",
      "Epoch:  0017 Avg. cost =  0.022\n",
      "Epoch:  0018 Avg. cost =  0.023\n",
      "Epoch:  0019 Avg. cost =  0.020\n",
      "Epoch:  0020 Avg. cost =  0.019\n",
      "Epoch:  0021 Avg. cost =  0.019\n",
      "Epoch:  0022 Avg. cost =  0.018\n",
      "Epoch:  0023 Avg. cost =  0.018\n",
      "Epoch:  0024 Avg. cost =  0.020\n",
      "Epoch:  0025 Avg. cost =  0.018\n",
      "Epoch:  0026 Avg. cost =  0.014\n",
      "Epoch:  0027 Avg. cost =  0.018\n",
      "Epoch:  0028 Avg. cost =  0.015\n",
      "Epoch:  0029 Avg. cost =  0.016\n",
      "Epoch:  0030 Avg. cost =  0.016\n",
      "최적화 완료!\n",
      "정확도:  0.9842\n"
     ]
    }
   ],
   "source": [
    "cost = tf.reduce_mean(tf.nn.softmax_cross_entropy_with_logits_v2(logits = model, labels = Y))\n",
    "optimizer = tf.train.AdamOptimizer(0.001).minimize(cost)\n",
    "\n",
    "init = tf.global_variables_initializer()\n",
    "sess = tf.Session()\n",
    "sess.run(init)\n",
    "\n",
    "batch_size = 100\n",
    "total_batch = int(mnist.train.num_examples / batch_size)\n",
    "\n",
    "for epoch in range(30):\n",
    "    total_cost = 0\n",
    "    \n",
    "    for i in range(total_batch):\n",
    "        batch_xs, batch_ys = mnist.train.next_batch(batch_size)\n",
    "        \n",
    "        _, cost_val = sess.run([optimizer, cost], feed_dict = {X: batch_xs, Y: batch_ys, keep_prob: 0.8})\n",
    "        \n",
    "        total_cost += cost_val\n",
    "        \n",
    "    print('Epoch: ', '%04d' % (epoch + 1), \n",
    "         'Avg. cost = ', '{:.3f}'.format(total_cost/total_batch))\n",
    "\n",
    "print('최적화 완료!')\n",
    "\n",
    "is_correct = tf.equal(tf.argmax(model, 1), tf.argmax(Y, 1))\n",
    "accuracy  = tf.reduce_mean(tf.cast(is_correct, tf.float32))\n",
    "print('정확도: ', sess.run(accuracy, feed_dict = {X: mnist.test.images, Y : mnist.test.labels, keep_prob: 1}))"
   ]
  },
  {
   "cell_type": "markdown",
   "metadata": {},
   "source": [
    "위의 설명한 것과 같이 예측할 때는 keep_prob에 1을 넣어 전체 신경망을 사용해 준다."
   ]
  },
  {
   "cell_type": "markdown",
   "metadata": {},
   "source": [
    "**더 해보기~**\n",
    "\n",
    "overfitting을 막아주는 방법으로 가장 유명하고 쉽게 이해할 수 있는 것이 Dropout!\n",
    "\n",
    "but 최근에는 **Batch Normalization** 많이 사용!\n",
    "\n",
    "-> overfitting 막아줌 & 학습 속도 높임! ( 원래 overfittng을 위해서가 아닌 학습시 발산/소실 등을 방지하여 학습 속도를 높이기 위해 발명된 기법)\n",
    "\n",
    "tf.nn.batch_normalization / tf.layers.batch_normalization 함수로 쉽게 적용 가능!\n",
    "\n",
    "특히 tf.layers 라이브러리(텐서플로의 고수준 API)를 이용하면 매우 간단 \n",
    "\n",
    "-> tf.layers.batch_normalization(L1, training = is_training)"
   ]
  }
 ],
 "metadata": {
  "kernelspec": {
   "display_name": "Python 3",
   "language": "python",
   "name": "python3"
  },
  "language_info": {
   "codemirror_mode": {
    "name": "ipython",
    "version": 3
   },
   "file_extension": ".py",
   "mimetype": "text/x-python",
   "name": "python",
   "nbconvert_exporter": "python",
   "pygments_lexer": "ipython3",
   "version": "3.6.5"
  }
 },
 "nbformat": 4,
 "nbformat_minor": 2
}
