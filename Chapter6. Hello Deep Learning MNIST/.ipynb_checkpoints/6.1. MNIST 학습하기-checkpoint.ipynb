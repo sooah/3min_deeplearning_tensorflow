{
 "cells": [
  {
   "cell_type": "markdown",
   "metadata": {},
   "source": [
    "## 6.1 MNIST 학습하기\n",
    "\n",
    "### MNIST : 손으로 쓴 숫자들의 이미지를 모아놓은 데이터셋\n",
    "* 0 ~ 9 까지 숫자\n",
    "* 28 X 28 픽셀 크기의 이미지\n",
    "\n",
    "-> 매우 잘 정리되어 있음 but 데이터 내려 받고, 읽고, 나누고, model에 적합한 형식으로 처리하는 번거로운 과정 걸쳐야함"
   ]
  },
  {
   "cell_type": "code",
   "execution_count": 1,
   "metadata": {},
   "outputs": [
    {
     "name": "stderr",
     "output_type": "stream",
     "text": [
      "C:\\Users\\soual\\Anaconda3\\lib\\site-packages\\h5py\\__init__.py:36: FutureWarning: Conversion of the second argument of issubdtype from `float` to `np.floating` is deprecated. In future, it will be treated as `np.float64 == np.dtype(float).type`.\n",
      "  from ._conv import register_converters as _register_converters\n"
     ]
    },
    {
     "name": "stdout",
     "output_type": "stream",
     "text": [
      "WARNING:tensorflow:From <ipython-input-1-85e32eec8b2e>:4: read_data_sets (from tensorflow.contrib.learn.python.learn.datasets.mnist) is deprecated and will be removed in a future version.\n",
      "Instructions for updating:\n",
      "Please use alternatives such as official/mnist/dataset.py from tensorflow/models.\n",
      "WARNING:tensorflow:From C:\\Users\\soual\\Anaconda3\\lib\\site-packages\\tensorflow\\contrib\\learn\\python\\learn\\datasets\\mnist.py:260: maybe_download (from tensorflow.contrib.learn.python.learn.datasets.base) is deprecated and will be removed in a future version.\n",
      "Instructions for updating:\n",
      "Please write your own downloading logic.\n",
      "WARNING:tensorflow:From C:\\Users\\soual\\Anaconda3\\lib\\site-packages\\tensorflow\\contrib\\learn\\python\\learn\\datasets\\base.py:252: _internal_retry.<locals>.wrap.<locals>.wrapped_fn (from tensorflow.contrib.learn.python.learn.datasets.base) is deprecated and will be removed in a future version.\n",
      "Instructions for updating:\n",
      "Please use urllib or similar directly.\n",
      "Successfully downloaded train-images-idx3-ubyte.gz 9912422 bytes.\n",
      "WARNING:tensorflow:From C:\\Users\\soual\\Anaconda3\\lib\\site-packages\\tensorflow\\contrib\\learn\\python\\learn\\datasets\\mnist.py:262: extract_images (from tensorflow.contrib.learn.python.learn.datasets.mnist) is deprecated and will be removed in a future version.\n",
      "Instructions for updating:\n",
      "Please use tf.data to implement this functionality.\n",
      "Extracting ./mnist/data/train-images-idx3-ubyte.gz\n",
      "Successfully downloaded train-labels-idx1-ubyte.gz 28881 bytes.\n",
      "WARNING:tensorflow:From C:\\Users\\soual\\Anaconda3\\lib\\site-packages\\tensorflow\\contrib\\learn\\python\\learn\\datasets\\mnist.py:267: extract_labels (from tensorflow.contrib.learn.python.learn.datasets.mnist) is deprecated and will be removed in a future version.\n",
      "Instructions for updating:\n",
      "Please use tf.data to implement this functionality.\n",
      "Extracting ./mnist/data/train-labels-idx1-ubyte.gz\n",
      "WARNING:tensorflow:From C:\\Users\\soual\\Anaconda3\\lib\\site-packages\\tensorflow\\contrib\\learn\\python\\learn\\datasets\\mnist.py:110: dense_to_one_hot (from tensorflow.contrib.learn.python.learn.datasets.mnist) is deprecated and will be removed in a future version.\n",
      "Instructions for updating:\n",
      "Please use tf.one_hot on tensors.\n",
      "Successfully downloaded t10k-images-idx3-ubyte.gz 1648877 bytes.\n",
      "Extracting ./mnist/data/t10k-images-idx3-ubyte.gz\n",
      "Successfully downloaded t10k-labels-idx1-ubyte.gz 4542 bytes.\n",
      "Extracting ./mnist/data/t10k-labels-idx1-ubyte.gz\n",
      "WARNING:tensorflow:From C:\\Users\\soual\\Anaconda3\\lib\\site-packages\\tensorflow\\contrib\\learn\\python\\learn\\datasets\\mnist.py:290: DataSet.__init__ (from tensorflow.contrib.learn.python.learn.datasets.mnist) is deprecated and will be removed in a future version.\n",
      "Instructions for updating:\n",
      "Please use alternatives such as official/mnist/dataset.py from tensorflow/models.\n"
     ]
    }
   ],
   "source": [
    "import tensorflow as tf\n",
    "\n",
    "from tensorflow.examples.tutorials.mnist import input_data\n",
    "mnist = input_data.read_data_sets(\"./mnist/data/\", one_hot = True)"
   ]
  },
  {
   "cell_type": "markdown",
   "metadata": {},
   "source": [
    "tensorflow import 한 뒤 내장된 tensorflow.examples.tutorials.mnist.input_data module import 함\n",
    "\n",
    "맨 마지막 줄이 MNIST 데이터를 내려받고 레이블을 one-hot encoding 방식으로 읽어들임"
   ]
  },
  {
   "cell_type": "code",
   "execution_count": 2,
   "metadata": {},
   "outputs": [],
   "source": [
    "X = tf.placeholder(tf.float32, [None, 784])\n",
    "Y = tf.placeholder(tf.float32, [None, 10])"
   ]
  },
  {
   "cell_type": "markdown",
   "metadata": {},
   "source": [
    "MNIST 데이터는 28X28 픽셀로 이루어져 있음 -> 784개의 feature로 이루어져 있음!\n",
    "\n",
    "레이블은 0 ~ 9 까지! -> 10개의 분류로 나눌 수 있음"
   ]
  },
  {
   "cell_type": "markdown",
   "metadata": {},
   "source": [
    "이때, 이미즐 하나씩 학습시키는 것 보다 여러 개를 한꺼번에 학습시키는 것이 효과가 좋음\n",
    "\n",
    "but 많은 메모리와 높은 컴퓨팅 성능 필요\n",
    "\n",
    "-> 데이터를 적당한 크기로 잘라서 학습 : **minibatch**\n",
    "\n",
    "위의 코드를 보면 X와 Y의 첫번째 차원이 None 인 것을 확인할 수 있음\n",
    "\n",
    "-> 한 번에 학습시킬 MNIST 이미지 갯수를 지정하는 값이 들어감 => **배치 크기를 지정하는 자리!**\n",
    "\n",
    "-> 원하는 배치 크기로 정확히 명시해줘도 됨 but 한 번에 학습할 갯수를 계속 바꿔가면서 실험하려는 경우 None을 넣어주면 알아서 계산함!"
   ]
  },
  {
   "cell_type": "code",
   "execution_count": 5,
   "metadata": {},
   "outputs": [],
   "source": [
    "W1 = tf.Variable(tf.random_normal([784, 256], stddev = 0.01))\n",
    "b1 = tf.Variable(tf.random_uniform([256], -1., 1.))\n",
    "L1 = tf.nn.relu(tf.matmul(X, W1) + b1)\n",
    "\n",
    "W2 = tf.Variable(tf.random_normal([256, 256], stddev = 0.01))\n",
    "b2 = tf.Variable(tf.random_uniform([256], -1., 1.))\n",
    "L2 = tf.nn.relu(tf.matmul(L1, W2) + b2)\n",
    "\n",
    "W3 = tf.Variable(tf.random_normal([256, 10], stddev = 0.01))\n",
    "b3 = tf.Variable(tf.random_uniform([10], -1., 1.))\n",
    "model = tf.matmul(L2, W3) + b3"
   ]
  },
  {
   "cell_type": "markdown",
   "metadata": {},
   "source": [
    "* 2개의 hidden layer를 갖는 신경망 구성\n",
    "\n",
    "784(input, #feature) -> 256(hidden layer 1 #feature) -> 256 (hidden layer 2 #feature) -> 10 (output 0~9)\n",
    "\n",
    "* tf.random_normal([256, 10], stddev = 0.01) : 표준편차가 0.01인 정규분포를 가지는 임의의 값으로 변수 초기화\n",
    "\n",
    "마지막 계층인 model tensor에 W3 변수를 곱하ㅣ여 요소 10개짜리 배열 출력\n",
    "\n",
    "-> 10개 요소는 0 ~ 9 까지의 숫자를 나타냄 (가장 큰 값을 가진 index가 예측 결과에 가까운 숫자)\n",
    "\n",
    "* output layer에는 보통 활성화 함수를 사용하지 않음"
   ]
  },
  {
   "cell_type": "code",
   "execution_count": 7,
   "metadata": {},
   "outputs": [],
   "source": [
    "cost = tf.reduce_mean(tf.nn.softmax_cross_entropy_with_logits_v2(logits = model, labels = Y))\n",
    "optimizer = tf.train.AdamOptimizer(0.001).minimize(cost)"
   ]
  },
  {
   "cell_type": "markdown",
   "metadata": {},
   "source": [
    "tf.nn.softmax_corss_entropy_with_logits_v2 함수 이용 -> 각 이미지에 대한 loss 구함 \n",
    "\n",
    "-> tf.reduce_mean을 이용 -> minibatch의 평균 손실값을 구함\n",
    "\n",
    "tf.train.AdamOptimizer 이용 -> loss 값 최고솨하는 최적화 수행"
   ]
  },
  {
   "cell_type": "code",
   "execution_count": 8,
   "metadata": {},
   "outputs": [],
   "source": [
    "init = tf.global_variables_initializer()\n",
    "sess = tf.Session()\n",
    "sess.run(init)"
   ]
  },
  {
   "cell_type": "markdown",
   "metadata": {},
   "source": [
    "신경망 모델 초기화 -> 학습 진행할 세션 시작"
   ]
  },
  {
   "cell_type": "markdown",
   "metadata": {},
   "source": [
    "### 테스트용 데이터를 왜 따로 구분하나요?\n",
    "머신러닝을 위한 학습 데이터는 항상 학습용과 테스트용으로 분리해서 사용\n",
    "\n",
    "* train data : 학습 시킬 때 사용\n",
    "\n",
    "* test data : 학습이 잘 되었는지를 확인하는 데 사용\n",
    "\n",
    "-> 별도의 train data를 사용하는 이유?\n",
    "\n",
    "train data로 예측하면 정확도가 매우 떨어지는 경우가 있음 \n",
    "\n",
    "=> train data는 예측을 매우 잘하지만 실제 데이터에서는 그렇지 못한 상태 : **overfitting**\n",
    "\n",
    "이를 방지하기 위해 train data와 test data 분리 -> 학습 후 항상 test data르르 사용하여 학습 결과 검증!\n",
    "\n",
    "* MNIST의 경우 6만개의 train data / 1만개의 test data로 구성되어 있음\n",
    "맨 처음 읽은 mnist 데이터에서 mnist.train을 사용하면 train data 만을! mnist.test를 사용하면 test data 만을 사용할 수 있음!"
   ]
  },
  {
   "cell_type": "code",
   "execution_count": 10,
   "metadata": {},
   "outputs": [],
   "source": [
    "batch_size = 100\n",
    "total_batch = int(mnist.train.num_examples / batch_size)"
   ]
  },
  {
   "cell_type": "markdown",
   "metadata": {},
   "source": [
    "minibatch size = 100\n",
    "\n",
    "train data의 총 개수인 mnist.train.num_examples를 batch size로 나눠 미니 배치가 총 몇 개인지 저장!"
   ]
  },
  {
   "cell_type": "code",
   "execution_count": 13,
   "metadata": {},
   "outputs": [
    {
     "name": "stdout",
     "output_type": "stream",
     "text": [
      "Epoch:  0001 Avg. cost =  0.008\n",
      "Epoch:  0002 Avg. cost =  0.011\n",
      "Epoch:  0003 Avg. cost =  0.007\n",
      "Epoch:  0004 Avg. cost =  0.012\n",
      "Epoch:  0005 Avg. cost =  0.006\n",
      "Epoch:  0006 Avg. cost =  0.008\n",
      "Epoch:  0007 Avg. cost =  0.005\n",
      "Epoch:  0008 Avg. cost =  0.008\n",
      "Epoch:  0009 Avg. cost =  0.010\n",
      "Epoch:  0010 Avg. cost =  0.004\n",
      "Epoch:  0011 Avg. cost =  0.011\n",
      "Epoch:  0012 Avg. cost =  0.006\n",
      "Epoch:  0013 Avg. cost =  0.002\n",
      "Epoch:  0014 Avg. cost =  0.008\n",
      "Epoch:  0015 Avg. cost =  0.007\n",
      "최적화 완료!\n"
     ]
    }
   ],
   "source": [
    "for epoch in range(15):\n",
    "    total_cost = 0\n",
    "    \n",
    "    for i in range(total_batch):\n",
    "        batch_xs, batch_ys = mnist.train.next_batch(batch_size)\n",
    "        \n",
    "        _, cost_val = sess.run([optimizer, cost], feed_dict = {X:batch_xs, Y:batch_ys})\n",
    "        total_cost += cost_val\n",
    "        \n",
    "    print('Epoch: ', '%04d' % (epoch + 1),\n",
    "         'Avg. cost = ', '{:.3f}'.format(total_cost/total_batch))\n",
    "\n",
    "print ('최적화 완료!')"
   ]
  },
  {
   "cell_type": "markdown",
   "metadata": {},
   "source": [
    "MNIST 데이터 전체를 학습하는 일을 총 15번 반복 (학습 데이터 전체를 한 바퀴 도는 것을 **epoch**라 함!)\n",
    "\n",
    "다음 안의 for문에서 미니배치의 총 갯수만큼 반복하여 학습\n",
    "\n",
    "1. 반복문 내에 먼저 mnist.train.next_batch(batch_size)함수를 사용 -> 학습할 데이터를 배치 크기만큼 가져온 뒤, \n",
    "\n",
    "입력값인 이미지 데이터는 batch_xs, 출력값인 레이블 데이터는 batch_ys에 저장\n",
    "\n",
    "2. sess.run을 사용하여 최적화, 손실값 저장\n",
    "\n",
    "feed_dict에 입력값 X와 예측 평가할 실제 레이블값 Y에 사용할 데이터를 넣어줌!\n",
    "\n",
    "3. 손실값 저장한 다음 한 epoch의 학습이 끝나면 학습한 epoch의 평균 손실값을 출력함!"
   ]
  },
  {
   "cell_type": "code",
   "execution_count": 14,
   "metadata": {},
   "outputs": [],
   "source": [
    "is_correct = tf.equal(tf.argmax(model, 1), tf.argmax(Y, 1))"
   ]
  },
  {
   "cell_type": "markdown",
   "metadata": {},
   "source": [
    "예측 결과인 model의 값과 실제 레이블인 Y의 값을 비교!\n",
    "\n",
    "1. 예측한 결과값은 one-hot encoding에 형식 \n",
    "\n",
    "-> 각 index에 해당하는 값 : 해당 숫자가 얼마나 해당 index와 관련이 높은가 나타냄!\n",
    "(위의 경우에서는 loss값을 softmax_cross_entropy_with_logits_v2를 이용해 구했음, 초기값, 예측모델, loss구하는 방식에 따라 결과 달라질 수 있음)\n",
    "\n",
    "\n",
    "2. tf.argmax(model, 1) : 두번째 차원의 값 중 최댓값의 인덱스를 뽑아내는 함수\n",
    "\n",
    "model로 출력한 결과는 [None, 10]과 같이 결과값을 배치 크기만큼 갖고 있음 -> 2번째 차원이 예측한 결과!\n",
    "\n",
    "=> tf.argmax는 one-hot encoding 형식의 예측값에서 가장 큰 값의 index를 뽑아냄 = 예측 결과!\n",
    "\n",
    "\n",
    "3. tf.argmax(Y,1) : 실제 레이블에 해당하는 숫자를 가져옴\n",
    "\n",
    "\n",
    "4. tf.equal 함수를 통해 예측한 숫자와 실제 숫자가 같은지 확인!"
   ]
  },
  {
   "cell_type": "code",
   "execution_count": 15,
   "metadata": {},
   "outputs": [],
   "source": [
    "accuracy = tf.reduce_mean(tf.cast(is_correct, tf.float32))"
   ]
  },
  {
   "cell_type": "markdown",
   "metadata": {},
   "source": [
    "tf.cast를 이용해 is_correct를 0과 1로 변환\n",
    "\n",
    "변환한 값들을 tf.reduce_mean을 이용해 평균을 냄 -> 정확도!"
   ]
  },
  {
   "cell_type": "code",
   "execution_count": 16,
   "metadata": {},
   "outputs": [
    {
     "name": "stdout",
     "output_type": "stream",
     "text": [
      "정확도 :  0.9788\n"
     ]
    }
   ],
   "source": [
    "print('정확도 : ', sess.run(accuracy, feed_dict = {X: mnist.test.images, Y: mnist.test.labels}))"
   ]
  },
  {
   "cell_type": "code",
   "execution_count": 19,
   "metadata": {},
   "outputs": [
    {
     "name": "stdout",
     "output_type": "stream",
     "text": [
      "Extracting ./mnist/data/train-images-idx3-ubyte.gz\n",
      "Extracting ./mnist/data/train-labels-idx1-ubyte.gz\n",
      "Extracting ./mnist/data/t10k-images-idx3-ubyte.gz\n",
      "Extracting ./mnist/data/t10k-labels-idx1-ubyte.gz\n",
      "Epoch:  0001 Avg. cost =  0.404\n",
      "Epoch:  0002 Avg. cost =  0.147\n",
      "Epoch:  0003 Avg. cost =  0.092\n",
      "Epoch:  0004 Avg. cost =  0.068\n",
      "Epoch:  0005 Avg. cost =  0.050\n",
      "Epoch:  0006 Avg. cost =  0.037\n",
      "Epoch:  0007 Avg. cost =  0.031\n",
      "Epoch:  0008 Avg. cost =  0.023\n",
      "Epoch:  0009 Avg. cost =  0.020\n",
      "Epoch:  0010 Avg. cost =  0.016\n",
      "Epoch:  0011 Avg. cost =  0.013\n",
      "Epoch:  0012 Avg. cost =  0.016\n",
      "Epoch:  0013 Avg. cost =  0.012\n",
      "Epoch:  0014 Avg. cost =  0.012\n",
      "Epoch:  0015 Avg. cost =  0.009\n",
      "최적화완료!\n",
      "정확도:  0.9798\n"
     ]
    }
   ],
   "source": [
    "## 전체 코드\n",
    "import tensorflow as tf\n",
    "\n",
    "from tensorflow.examples.tutorials.mnist import input_data\n",
    "mnist = input_data.read_data_sets('./mnist/data/', one_hot = True)\n",
    "\n",
    "###########\n",
    "# 신경망 모델 구성\n",
    "##########\n",
    "X = tf.placeholder(tf.float32, [None, 784])\n",
    "Y = tf.placeholder(tf.float32, [None, 10])\n",
    "\n",
    "W1 = tf.Variable(tf.random_normal([784, 256], stddev = 0.01))\n",
    "L1 = tf.nn.relu(tf.matmul(X, W1))\n",
    "\n",
    "W2 = tf.Variable(tf.random_normal([256, 256], stddev = 0.01))\n",
    "L2 = tf.nn.relu(tf.matmul(L1, W2))\n",
    "\n",
    "W3 = tf.Variable(tf.random_normal([256, 10], stddev = 0.01))\n",
    "model = tf.matmul(L2, W3)\n",
    "\n",
    "cost = tf.reduce_mean(tf.nn.softmax_cross_entropy_with_logits_v2(logits = model, labels = Y))\n",
    "optimizer = tf.train.AdamOptimizer(0.001).minimize(cost)\n",
    "\n",
    "###########\n",
    "# 신경망 모델 학습\n",
    "###########\n",
    "init = tf.global_variables_initializer()\n",
    "sess = tf.Session()\n",
    "sess.run(init)\n",
    "\n",
    "batch_size = 100\n",
    "total_batch = int(mnist.train.num_examples/batch_size)\n",
    "\n",
    "for epoch in range(15):\n",
    "    total_cost = 0\n",
    "    \n",
    "    for i in range(total_batch):\n",
    "        batch_xs, batch_ys = mnist.train.next_batch(batch_size)\n",
    "        \n",
    "        _, cost_val = sess.run([optimizer, cost], feed_dict = {X: batch_xs, Y: batch_ys})\n",
    "        total_cost += cost_val\n",
    "        \n",
    "    print('Epoch: ', '%04d' % (epoch + 1), \n",
    "         'Avg. cost = ', '{:.3f}'.format(total_cost/total_batch))\n",
    "        \n",
    "print('최적화완료!')\n",
    "\n",
    "#######\n",
    "# 결과 확인\n",
    "#######\n",
    "is_correct = tf.equal(tf.argmax(model, 1), tf.argmax(Y,1))\n",
    "accuracy = tf.reduce_mean(tf.cast(is_correct, tf.float32))\n",
    "print('정확도: ', sess.run(accuracy, feed_dict = {X: mnist.test.images, Y: mnist.test.labels}))"
   ]
  }
 ],
 "metadata": {
  "kernelspec": {
   "display_name": "Python 3",
   "language": "python",
   "name": "python3"
  },
  "language_info": {
   "codemirror_mode": {
    "name": "ipython",
    "version": 3
   },
   "file_extension": ".py",
   "mimetype": "text/x-python",
   "name": "python",
   "nbconvert_exporter": "python",
   "pygments_lexer": "ipython3",
   "version": "3.6.5"
  }
 },
 "nbformat": 4,
 "nbformat_minor": 2
}
