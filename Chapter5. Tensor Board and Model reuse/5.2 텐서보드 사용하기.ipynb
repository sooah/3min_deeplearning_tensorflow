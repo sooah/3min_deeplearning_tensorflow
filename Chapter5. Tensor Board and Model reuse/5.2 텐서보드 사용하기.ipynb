{
 "cells": [
  {
   "cell_type": "markdown",
   "metadata": {},
   "source": [
    "## 5.2 텐서보드 사용하기\n",
    "\n",
    "딥러닝을 현업에 활용 -> 대부분의 경우 학습 시간이 상당히 오래 걸림\n",
    "\n",
    "-> 모델을 효과적으로 실험하기 위해 학습 과정을 추적하는 것이 매우 중요\n",
    "\n",
    "=> 이를 위해 텐서플로가 **텐서보드**기본으로 제공\n",
    "\n",
    "* 텐서보드 : 학습하는 중간중간 손실값이나 정확도/결과물로 나온 이미지나 사운드 파일들 다양한 방식으로 시각화해 보여준다."
   ]
  },
  {
   "cell_type": "code",
   "execution_count": 1,
   "metadata": {},
   "outputs": [
    {
     "name": "stderr",
     "output_type": "stream",
     "text": [
      "C:\\Users\\soual\\Anaconda3\\lib\\site-packages\\h5py\\__init__.py:36: FutureWarning: Conversion of the second argument of issubdtype from `float` to `np.floating` is deprecated. In future, it will be treated as `np.float64 == np.dtype(float).type`.\n",
      "  from ._conv import register_converters as _register_converters\n"
     ]
    }
   ],
   "source": [
    "import tensorflow as tf\n",
    "import numpy as np\n",
    "\n",
    "data = np.loadtxt('./data.csv', delimiter = ',', unpack = True, dtype = 'float32')\n",
    "\n",
    "x_data = np.transpose(data[0:2])\n",
    "y_data = np.transpose(data[2:])\n",
    "\n",
    "global_step = tf.Variable(0, trainable = False, name = 'global_step')\n",
    "\n",
    "X = tf.placeholder(tf.float32)\n",
    "Y = tf.placeholder(tf.float32)"
   ]
  },
  {
   "cell_type": "markdown",
   "metadata": {},
   "source": [
    "데이터를 읽어 들이는 코드와 플레이스홀더 값을 넣음"
   ]
  },
  {
   "cell_type": "code",
   "execution_count": 2,
   "metadata": {},
   "outputs": [],
   "source": [
    "with tf.name_scope('layer1'):\n",
    "    W1 = tf.Variable(tf.random_uniform([2, 10], -1., 1.), name = 'W1')\n",
    "    L1 = tf.nn.relu(tf.matmul(X, W1))"
   ]
  },
  {
   "cell_type": "markdown",
   "metadata": {},
   "source": [
    "각 신경망의 계층에 위의 코드를 덧붙여 준다.\n",
    "\n",
    "* with tf.name_scope : 이 함수로 묶은 블록은 텐서보드에서 한 계층 내부를 표현\n",
    "\n",
    "name = 'W1'와 같이 이름을 붙이면 텐서보드에서 해당 이름의 변수가 어디서 사용되는지 쉽게 알 수 있음! \n",
    "\n",
    "-> 이름은 변수, 플레이스홀더, 각각의 연산, 활성화 함수 등 모든 텐서에 붙일 수 있음"
   ]
  },
  {
   "cell_type": "code",
   "execution_count": 3,
   "metadata": {},
   "outputs": [],
   "source": [
    "with tf.name_scope('layer2'):\n",
    "    W2 = tf.Variable(tf.random_uniform([10, 20], -1., 1.), name = 'W2')\n",
    "    L2 = tf.nn.relu(tf.matmul(L1, W2))\n",
    "    \n",
    "with tf.name_scope('output'):\n",
    "    W3 = tf.Variable(tf.random_uniform([20, 3], -1., 1.), name = 'W3')\n",
    "    model = tf.matmul(L2, W3)\n",
    "    \n",
    "with tf.name_scope('optimizer'):\n",
    "    cost = tf.reduce_mean(tf.nn.softmax_cross_entropy_with_logits_v2(labels = Y, logits = model))\n",
    "    \n",
    "    optimizer = tf.train.AdamOptimizer(learning_rate = 0.01)\n",
    "    train_op = optimizer.minimize(cost, global_step = global_step)\n",
    "    \n",
    "    tf.summary.scalar('cost', cost)"
   ]
  },
  {
   "cell_type": "markdown",
   "metadata": {},
   "source": [
    "손실값을 추적하기 위해 수집할 값을 지정하는 코드 작성\n",
    "\n",
    "-> cost텐서의 값을 손쉽게 지정 가능\n",
    "\n",
    "* tf.summary 모듈의 scalar 함수 : 값이 하나인 텐서를 수집할 때 사용\n",
    "\n",
    "-> histogram, image, audio 등의 함수도 있음"
   ]
  },
  {
   "cell_type": "code",
   "execution_count": 5,
   "metadata": {},
   "outputs": [],
   "source": [
    "sess = tf.Session()\n",
    "saver = tf.train.Saver(tf.global_variables())\n",
    "\n",
    "ckpt = tf.train.get_checkpoint_state('./model')\n",
    "if ckpt and tf.train.checkpoint_exists(ckpt.model_checkpoint_path):\n",
    "    saver.restore(sess, ckpt.model_checkpoint_path)\n",
    "else:\n",
    "    sess.run(tf.global_variables_initializer())"
   ]
  },
  {
   "cell_type": "code",
   "execution_count": 6,
   "metadata": {},
   "outputs": [],
   "source": [
    "merged = tf.summary.merge_all()\n",
    "writer = tf.summary.FileWriter('./logs', sess.graph)"
   ]
  },
  {
   "cell_type": "markdown",
   "metadata": {},
   "source": [
    "* tf.summary.merge_all : 앞서 지정한 텐서를 수집\n",
    "* tf.summary.fileWriter : 그래프와 텐서들의 값을 저장할 디텍터리 설정"
   ]
  },
  {
   "cell_type": "code",
   "execution_count": 7,
   "metadata": {},
   "outputs": [
    {
     "name": "stdout",
     "output_type": "stream",
     "text": [
      "Step: 1,  Cost: 1.001 \n",
      "Step: 2,  Cost: 0.943 \n",
      "Step: 3,  Cost: 0.892 \n",
      "Step: 4,  Cost: 0.846 \n",
      "Step: 5,  Cost: 0.805 \n",
      "Step: 6,  Cost: 0.769 \n",
      "Step: 7,  Cost: 0.738 \n",
      "Step: 8,  Cost: 0.710 \n",
      "Step: 9,  Cost: 0.685 \n",
      "Step: 10,  Cost: 0.665 \n",
      "Step: 11,  Cost: 0.648 \n",
      "Step: 12,  Cost: 0.634 \n",
      "Step: 13,  Cost: 0.622 \n",
      "Step: 14,  Cost: 0.611 \n",
      "Step: 15,  Cost: 0.603 \n",
      "Step: 16,  Cost: 0.595 \n",
      "Step: 17,  Cost: 0.589 \n",
      "Step: 18,  Cost: 0.584 \n",
      "Step: 19,  Cost: 0.580 \n",
      "Step: 20,  Cost: 0.576 \n",
      "Step: 21,  Cost: 0.572 \n",
      "Step: 22,  Cost: 0.570 \n",
      "Step: 23,  Cost: 0.567 \n",
      "Step: 24,  Cost: 0.565 \n",
      "Step: 25,  Cost: 0.563 \n",
      "Step: 26,  Cost: 0.562 \n",
      "Step: 27,  Cost: 0.560 \n",
      "Step: 28,  Cost: 0.559 \n",
      "Step: 29,  Cost: 0.558 \n",
      "Step: 30,  Cost: 0.557 \n",
      "Step: 31,  Cost: 0.556 \n",
      "Step: 32,  Cost: 0.555 \n",
      "Step: 33,  Cost: 0.555 \n",
      "Step: 34,  Cost: 0.554 \n",
      "Step: 35,  Cost: 0.554 \n",
      "Step: 36,  Cost: 0.554 \n",
      "Step: 37,  Cost: 0.553 \n",
      "Step: 38,  Cost: 0.553 \n",
      "Step: 39,  Cost: 0.553 \n",
      "Step: 40,  Cost: 0.552 \n",
      "Step: 41,  Cost: 0.552 \n",
      "Step: 42,  Cost: 0.552 \n",
      "Step: 43,  Cost: 0.552 \n",
      "Step: 44,  Cost: 0.552 \n",
      "Step: 45,  Cost: 0.552 \n",
      "Step: 46,  Cost: 0.552 \n",
      "Step: 47,  Cost: 0.551 \n",
      "Step: 48,  Cost: 0.551 \n",
      "Step: 49,  Cost: 0.551 \n",
      "Step: 50,  Cost: 0.551 \n",
      "Step: 51,  Cost: 0.551 \n",
      "Step: 52,  Cost: 0.551 \n",
      "Step: 53,  Cost: 0.551 \n",
      "Step: 54,  Cost: 0.551 \n",
      "Step: 55,  Cost: 0.551 \n",
      "Step: 56,  Cost: 0.551 \n",
      "Step: 57,  Cost: 0.551 \n",
      "Step: 58,  Cost: 0.551 \n",
      "Step: 59,  Cost: 0.551 \n",
      "Step: 60,  Cost: 0.551 \n",
      "Step: 61,  Cost: 0.551 \n",
      "Step: 62,  Cost: 0.551 \n",
      "Step: 63,  Cost: 0.550 \n",
      "Step: 64,  Cost: 0.550 \n",
      "Step: 65,  Cost: 0.550 \n",
      "Step: 66,  Cost: 0.550 \n",
      "Step: 67,  Cost: 0.550 \n",
      "Step: 68,  Cost: 0.550 \n",
      "Step: 69,  Cost: 0.550 \n",
      "Step: 70,  Cost: 0.550 \n",
      "Step: 71,  Cost: 0.550 \n",
      "Step: 72,  Cost: 0.550 \n",
      "Step: 73,  Cost: 0.550 \n",
      "Step: 74,  Cost: 0.550 \n",
      "Step: 75,  Cost: 0.550 \n",
      "Step: 76,  Cost: 0.550 \n",
      "Step: 77,  Cost: 0.550 \n",
      "Step: 78,  Cost: 0.550 \n",
      "Step: 79,  Cost: 0.550 \n",
      "Step: 80,  Cost: 0.550 \n",
      "Step: 81,  Cost: 0.550 \n",
      "Step: 82,  Cost: 0.550 \n",
      "Step: 83,  Cost: 0.550 \n",
      "Step: 84,  Cost: 0.550 \n",
      "Step: 85,  Cost: 0.550 \n",
      "Step: 86,  Cost: 0.550 \n",
      "Step: 87,  Cost: 0.550 \n",
      "Step: 88,  Cost: 0.550 \n",
      "Step: 89,  Cost: 0.550 \n",
      "Step: 90,  Cost: 0.550 \n",
      "Step: 91,  Cost: 0.550 \n",
      "Step: 92,  Cost: 0.550 \n",
      "Step: 93,  Cost: 0.550 \n",
      "Step: 94,  Cost: 0.550 \n",
      "Step: 95,  Cost: 0.550 \n",
      "Step: 96,  Cost: 0.550 \n",
      "Step: 97,  Cost: 0.550 \n",
      "Step: 98,  Cost: 0.550 \n",
      "Step: 99,  Cost: 0.550 \n",
      "Step: 100,  Cost: 0.550 \n"
     ]
    }
   ],
   "source": [
    "for step in range(100):\n",
    "    sess.run(train_op, feed_dict = {X: x_data, Y: y_data})\n",
    "    \n",
    "    print('Step: %d, ' % sess.run(global_step),\n",
    "         'Cost: %.3f ' % sess.run(cost, feed_dict = {X: x_data, Y : y_data}))\n",
    "    \n",
    "    summary = sess.run(merged, feed_dict = {X: x_data, Y: y_data})\n",
    "    writer.add_summary(summary, global_step = sess.run(global_step))"
   ]
  },
  {
   "cell_type": "markdown",
   "metadata": {},
   "source": [
    "최적화 실행 코드 작성\n",
    "\n",
    "* sess.run : merged로 모아둔 텐서의 값들 계산하여 수집\n",
    "\n",
    "* writer.add_summary : 해당 값들을 앞서 지정한 디렉터리에 저장\n",
    "\n",
    "-> 적절한 시점에 (여기서는 매 단계에서) 값들을 수집하고 저장 => 나중에 확인할 수 있도록 global_step 값을 이용해 수집한 시점을 기록"
   ]
  },
  {
   "cell_type": "code",
   "execution_count": 8,
   "metadata": {},
   "outputs": [
    {
     "name": "stdout",
     "output_type": "stream",
     "text": [
      "예측값 :  [0 1 2 0 0 2]\n",
      "실제값 :  [0 1 2 0 0 2]\n",
      "정확도 : 100.00\n"
     ]
    }
   ],
   "source": [
    "saver.save(sess, './model/dnn.ckpt', global_step = global_step)\n",
    "\n",
    "prediction = tf.argmax(model, 1)\n",
    "target = tf.argmax(Y,1)\n",
    "print('예측값 : ', sess.run(prediction, feed_dict = {X: x_data}))\n",
    "print('실제값 : ', sess.run(target, feed_dict = {Y : y_data}))\n",
    "\n",
    "is_correct = tf.equal(prediction, target)\n",
    "accuracy = tf.reduce_mean(tf.cast(is_correct, tf.float32))\n",
    "print('정확도 : %.2f' %sess.run(accuracy * 100, feed_dict = {X: x_data, Y: y_data}))"
   ]
  },
  {
   "cell_type": "markdown",
   "metadata": {},
   "source": [
    "위의 코드들을 실행하고 나면 현재 디렉터리에 logs라는 디렉터리가 새로 생긴 것을 볼 수 있음\n",
    "\n",
    "1. 명령 프롬프트에 tensorboard --logdir=.logs 침\n",
    "\n",
    "2. 위의 명령을 실행하면 Starting TensorBoard b'41' on port 6006 이 뜨며 웹서버 실행"
   ]
  },
  {
   "cell_type": "code",
   "execution_count": null,
   "metadata": {},
   "outputs": [],
   "source": [
    "##전체 코드\n",
    "import tensorflow as tf\n",
    "import numpy as np\n",
    "\n",
    "data = np.loadtxt('./data.csv', delimiter = ',', unpack = True, dtype = 'float32')\n",
    "\n",
    "x_data = np.transpose(data[0:2])\n",
    "y_data = np.transpose(data[2:])\n",
    "\n",
    "##########\n",
    "# 신경망 모델 구성\n",
    "##########\n",
    "gloabal_step = tf.Variable(0, trainable = False, name = 'global_step')\n",
    "\n",
    "X = tf.placeholder(tf.float32)\n",
    "Y = tf.placeholder(tf.float32)\n",
    "\n",
    "with tf.name_scope('layer1'):\n",
    "    W1 = tf.Variable(tf.random_uniform([2, 10], -1., 1.), name = 'W1')\n",
    "    L1 = tf.nn.relu(tf.matmul(X, W1))\n",
    "    \n",
    "with tf.name_scope('layer2'):\n",
    "    W2 = tf.Variable(tf.random_uniform([10, 20], -1., 1.), name = 'W2')\n",
    "    L2 = tf.nn.relu(tf.matmul(L1, W2))\n",
    "    \n",
    "with tf.name_scope('output'):\n",
    "    W3 = tf.Variable(tf.random_uniform([20, 3], -1., 1.), name = 'W3')\n",
    "    model = tf.matmul(L2, W3)\n",
    "    \n",
    "with tf.name_scope('optimizer'):\n",
    "    cost = tf.reduce_mean(tf.nn.softmax_cross_entropy_with_logits_v2(labels = Y, logits = model))\n",
    "    optimizer = tf.train.AdamOptimizer(learning_rate = 0.01)\n",
    "    train_op = optimizer.minimize(cost, global_step = global_step)\n",
    "    \n",
    "    tf.summary.scalar('cost', cost)\n",
    "    \n",
    "##############\n",
    "# 신경망 모델 학습\n",
    "##############\n",
    "sess = tf.Session()\n",
    "saver = tf.train.Saver(tf.global_variables())\n",
    "\n",
    "ckpt = tf.train.get_checkpoint_state('./model')\n",
    "if ckpt and tf.train.checkpoint_exists(ckpt.model_checkpoint_path):\n",
    "    saver.restore(sess, ckpt.model_checkpoint_path)\n",
    "else:\n",
    "    sess.run(tf.global_variables_initializer())\n",
    "    \n",
    "merged = tf.summary.merge_all()\n",
    "writer = tf.summary.FileWriter('./logs', sess.graph)\n",
    "\n",
    "for step in range(100):\n",
    "    sess.run(train_op, feed_dict = {X: x_data, Y: y_data})\n",
    "    \n",
    "    print('Step: %d, ' % sess.run(global_step), \n",
    "         'Cost: %.3f' %sess.run(cost, feed_dict = {X: x_data, Y: y_data}))\n",
    "    \n",
    "    summary = sess.run(merged, feed_dict = {X: x_data, Y: y_data})\n",
    "    writer.add_summary(summary, global_step = sess.run(global_step))\n",
    "    \n",
    "saver.save(sess, './model/dnn.ckpt', global_step = globla_step)\n",
    "\n",
    "##########\n",
    "# 결과 확인\n",
    "##########\n",
    "prediction = tf.argmax(model, 1)\n",
    "target = tf.argmax(Y, 1)\n",
    "print('예측값: ', sess.run(prediction, feed_dict = {X: x_data}))\n",
    "print('실제값: ', sess.run(target, feed_dict = {Y: y_data}))\n",
    "\n",
    "is_correct = tf.equal(prediction, target)\n",
    "accuracy = tf.reduce_mean(tf.cast(is_correct, tf.float32))\n",
    "print('정확도: %.2f' % sess.run(accuracy * 100, feed_dict = {X: x_data, Y: y_data}))"
   ]
  }
 ],
 "metadata": {
  "kernelspec": {
   "display_name": "Python 3",
   "language": "python",
   "name": "python3"
  },
  "language_info": {
   "codemirror_mode": {
    "name": "ipython",
    "version": 3
   },
   "file_extension": ".py",
   "mimetype": "text/x-python",
   "name": "python",
   "nbconvert_exporter": "python",
   "pygments_lexer": "ipython3",
   "version": "3.6.5"
  }
 },
 "nbformat": 4,
 "nbformat_minor": 2
}
