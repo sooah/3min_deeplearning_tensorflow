{
 "cells": [
  {
   "cell_type": "markdown",
   "metadata": {},
   "source": [
    "Machine Learning method는 크게 supervised learning 과 unsupervised learning으로 나눌 수 있음\n",
    "\n",
    "- supervised learning : 프로그램에게 원하는 결과를 알려주고 학습하는 방법 (X, Y 둘 다 있는 상태에서 학습)\n",
    "\n",
    "- unsupervised learning : 입력값으로부터 data의 특징을 찾아내는 방법 (X만 있는 상태에서 학습)"
   ]
  },
  {
   "cell_type": "markdown",
   "metadata": {},
   "source": [
    "## 8.1 Autoencoder 개념\n",
    "\n",
    "- unsupervised learning method 중 가장 널리 쓰이는 방법\n",
    "\n",
    "- 입력값과 출력값을 갖게 하는 신경망\n",
    "\n",
    "- **가운데 layer의 node 수가 입력값보다 적은 것**이 독특! \n",
    "\n",
    "=> input data를 압축하는 효과 -> noise 제거에 매우 효과적!"
   ]
  },
  {
   "cell_type": "markdown",
   "metadata": {},
   "source": [
    "### 핵심\n",
    "\n",
    "1. input layer로 들어온 data를 encoder를 통해 hidden layer로 내보냄\n",
    "\n",
    "2. hidden layer의 data를 decoder를 통해 output layer로 내보냄\n",
    "\n",
    "3. 만들어진 output data를 input data와 비슷해지도록 만드는 weight를 찾아내는 것"
   ]
  },
  {
   "cell_type": "markdown",
   "metadata": {},
   "source": [
    "### 종류\n",
    "\n",
    "Variational Autoencoder\n",
    "\n",
    "Denoising Autoencoder ...\n"
   ]
  }
 ],
 "metadata": {
  "kernelspec": {
   "display_name": "Python 3",
   "language": "python",
   "name": "python3"
  },
  "language_info": {
   "codemirror_mode": {
    "name": "ipython",
    "version": 3
   },
   "file_extension": ".py",
   "mimetype": "text/x-python",
   "name": "python",
   "nbconvert_exporter": "python",
   "pygments_lexer": "ipython3",
   "version": "3.6.5"
  }
 },
 "nbformat": 4,
 "nbformat_minor": 2
}
