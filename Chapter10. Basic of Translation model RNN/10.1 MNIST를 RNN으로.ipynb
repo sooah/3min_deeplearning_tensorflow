{
 "cells": [
  {
   "cell_type": "markdown",
   "metadata": {},
   "source": [
    "## 10.1 MNIST를 RNN으로\n",
    "\n",
    "RNN(Recurrent Neural Network) : 순환 신경망 -> 순서가 있는 데이터를 처리하는데 유리 (다른 NN은 상태가 고정된 데이터 처리)\n",
    "\n",
    "-> 앞이나 뒤의 정보에 따라 전체 의미가 달라지거나, 앞의 정보로 다음에 나올 정보를 추측하는 경우에 좋음!\n",
    "\n",
    "* MNIST 를 RNN 방식으로 학습하고 예측!\n",
    "\n",
    "- RNN의 가운데 한 덩어리의 신경망 : cell\n",
    "\n",
    "-> 이 셀을 여러 개 중첩하여 deep NN 만듦 => 앞 단계에서 학습한 결과를 다음 단계의 학습에서 이용\n",
    "\n",
    "-> 학습 데이터를 단계별로 구분해서 입력해 주어야 함! -> MNIST 입력값도 단계별로 입력할 수 있는 형태로 바꾸어 줘야!\n",
    "\n",
    "- MNIST 데이터 : 28 X 28 -> 가로 한 줄의 28 픽셀을 한 단계의 입력값으로 사용 & 세로줄이 총 28개 -> 28단계에 걸쳐 데이터를 입력 받음"
   ]
  },
  {
   "cell_type": "code",
   "execution_count": 1,
   "metadata": {},
   "outputs": [
    {
     "name": "stderr",
     "output_type": "stream",
     "text": [
      "C:\\Users\\soual\\Anaconda3\\lib\\site-packages\\h5py\\__init__.py:36: FutureWarning: Conversion of the second argument of issubdtype from `float` to `np.floating` is deprecated. In future, it will be treated as `np.float64 == np.dtype(float).type`.\n",
      "  from ._conv import register_converters as _register_converters\n"
     ]
    },
    {
     "name": "stdout",
     "output_type": "stream",
     "text": [
      "WARNING:tensorflow:From <ipython-input-1-436af5801093>:4: read_data_sets (from tensorflow.contrib.learn.python.learn.datasets.mnist) is deprecated and will be removed in a future version.\n",
      "Instructions for updating:\n",
      "Please use alternatives such as official/mnist/dataset.py from tensorflow/models.\n",
      "WARNING:tensorflow:From C:\\Users\\soual\\Anaconda3\\lib\\site-packages\\tensorflow\\contrib\\learn\\python\\learn\\datasets\\mnist.py:260: maybe_download (from tensorflow.contrib.learn.python.learn.datasets.base) is deprecated and will be removed in a future version.\n",
      "Instructions for updating:\n",
      "Please write your own downloading logic.\n",
      "WARNING:tensorflow:From C:\\Users\\soual\\Anaconda3\\lib\\site-packages\\tensorflow\\contrib\\learn\\python\\learn\\datasets\\base.py:252: _internal_retry.<locals>.wrap.<locals>.wrapped_fn (from tensorflow.contrib.learn.python.learn.datasets.base) is deprecated and will be removed in a future version.\n",
      "Instructions for updating:\n",
      "Please use urllib or similar directly.\n",
      "Successfully downloaded train-images-idx3-ubyte.gz 9912422 bytes.\n",
      "WARNING:tensorflow:From C:\\Users\\soual\\Anaconda3\\lib\\site-packages\\tensorflow\\contrib\\learn\\python\\learn\\datasets\\mnist.py:262: extract_images (from tensorflow.contrib.learn.python.learn.datasets.mnist) is deprecated and will be removed in a future version.\n",
      "Instructions for updating:\n",
      "Please use tf.data to implement this functionality.\n",
      "Extracting ./mnist/data/train-images-idx3-ubyte.gz\n",
      "Successfully downloaded train-labels-idx1-ubyte.gz 28881 bytes.\n",
      "WARNING:tensorflow:From C:\\Users\\soual\\Anaconda3\\lib\\site-packages\\tensorflow\\contrib\\learn\\python\\learn\\datasets\\mnist.py:267: extract_labels (from tensorflow.contrib.learn.python.learn.datasets.mnist) is deprecated and will be removed in a future version.\n",
      "Instructions for updating:\n",
      "Please use tf.data to implement this functionality.\n",
      "Extracting ./mnist/data/train-labels-idx1-ubyte.gz\n",
      "WARNING:tensorflow:From C:\\Users\\soual\\Anaconda3\\lib\\site-packages\\tensorflow\\contrib\\learn\\python\\learn\\datasets\\mnist.py:110: dense_to_one_hot (from tensorflow.contrib.learn.python.learn.datasets.mnist) is deprecated and will be removed in a future version.\n",
      "Instructions for updating:\n",
      "Please use tf.one_hot on tensors.\n",
      "Successfully downloaded t10k-images-idx3-ubyte.gz 1648877 bytes.\n",
      "Extracting ./mnist/data/t10k-images-idx3-ubyte.gz\n",
      "Successfully downloaded t10k-labels-idx1-ubyte.gz 4542 bytes.\n",
      "Extracting ./mnist/data/t10k-labels-idx1-ubyte.gz\n",
      "WARNING:tensorflow:From C:\\Users\\soual\\Anaconda3\\lib\\site-packages\\tensorflow\\contrib\\learn\\python\\learn\\datasets\\mnist.py:290: DataSet.__init__ (from tensorflow.contrib.learn.python.learn.datasets.mnist) is deprecated and will be removed in a future version.\n",
      "Instructions for updating:\n",
      "Please use alternatives such as official/mnist/dataset.py from tensorflow/models.\n"
     ]
    }
   ],
   "source": [
    "import tensorflow as tf\n",
    "\n",
    "from tensorflow.examples.tutorials.mnist import input_data\n",
    "mnist = input_data.read_data_sets('./mnist/data/', one_hot = True)\n",
    "\n",
    "learning_rate = 0.001\n",
    "total_epoch = 30\n",
    "batch_size = 128\n",
    "\n",
    "n_input = 28\n",
    "n_step = 28\n",
    "n_hidden = 128\n",
    "n_class = 10\n",
    "\n",
    "X = tf.placeholder(tf.float32, [None, n_step, n_input])\n",
    "Y = tf.placeholder(tf.float32, [None, n_class])\n",
    "W = tf.Variable(tf.random_normal([n_hidden, n_class]))\n",
    "b = tf.Variable(tf.random_normal([n_class]))"
   ]
  },
  {
   "cell_type": "markdown",
   "metadata": {},
   "source": [
    "입력값 X 앞에 n_step 차원이 추가되어 있음! -> RNN은 순서가 있는 데이터를 다룸 -> 한 번에 입력받을 갯수와 총 몇 단계로 이루어진 데이터를 받을 지 설정해야 함!\n",
    "\n",
    "=> 가로 픽셀 수 : n_input, 세로 픽셀 수 : n_step(입력단계) 로 설정!\n",
    "\n",
    "=> 출력값 : MNIST 의 분류 0~9까지 10개!"
   ]
  },
  {
   "cell_type": "code",
   "execution_count": 2,
   "metadata": {},
   "outputs": [],
   "source": [
    "cell = tf.nn.rnn_cell.BasicRNNCell(n_hidden)"
   ]
  },
  {
   "cell_type": "markdown",
   "metadata": {},
   "source": [
    "n_hidden 개의 출력값을 갖는 RNN cell 생성\n",
    "\n",
    "위의 경우 BasicRNNCell 함수 사용 but tensorflow에 BasicLSTMCell, GRUCell 등의 다양한 방식의 셀 사용 가능\n",
    "\n",
    "* RNN의 기본 신경망 : 긴 단계의 데이터를 학습할 경우 맨 뒤에서는 맨 앞의 정보를 잘 기억하지 못하는 특성 있음!\n",
    "\n",
    "-> 이를 보완하기 위해 LSTM(Long Short-Term Memory), GRU(Gated Recurrent Units) 등이 만들어짐 / GRU : LSTM과 비슷 but 구조가 조금 더 간단"
   ]
  },
  {
   "cell_type": "code",
   "execution_count": 3,
   "metadata": {},
   "outputs": [],
   "source": [
    "outputs, states = tf.nn.dynamic_rnn(cell, X, dtype = tf.float32)"
   ]
  },
  {
   "cell_type": "markdown",
   "metadata": {},
   "source": [
    "앞에서 생성한 RNN cell 값과 입력값, 입력값의 자료형을 넣어주면 신경망 완성!\n",
    "\n",
    "-> 원래는 한 단계 학습한 뒤 상태 저장 -> 다음 단계 입력상태로 대입하여 다시 학습 -> ... 반복\n",
    "\n",
    "-> 고려할 것이 많음 -> 이 과정을 대신 해주는 dynamic_rnn 함수 사용!"
   ]
  },
  {
   "cell_type": "code",
   "execution_count": 4,
   "metadata": {},
   "outputs": [],
   "source": [
    "outputs = tf.transpose(outputs, [1,0,2])\n",
    "outputs = outputs[-1]"
   ]
  },
  {
   "cell_type": "markdown",
   "metadata": {},
   "source": [
    "RNN에서 나온 출력값을 갖고 최종 출력값을 만듦 -> one-hot encoding 형태로 만들 것임 -> 손실함수 : tf.nn.softmax_cross_entropy_with_logits_v2사용 => 사용하기 위해 최종 결과값이 실측값Y와 동일해야함! => [batch_size, n_class]"
   ]
  },
  {
   "cell_type": "code",
   "execution_count": null,
   "metadata": {},
   "outputs": [],
   "source": []
  }
 ],
 "metadata": {
  "kernelspec": {
   "display_name": "Python 3",
   "language": "python",
   "name": "python3"
  },
  "language_info": {
   "codemirror_mode": {
    "name": "ipython",
    "version": 3
   },
   "file_extension": ".py",
   "mimetype": "text/x-python",
   "name": "python",
   "nbconvert_exporter": "python",
   "pygments_lexer": "ipython3",
   "version": "3.6.5"
  }
 },
 "nbformat": 4,
 "nbformat_minor": 2
}
