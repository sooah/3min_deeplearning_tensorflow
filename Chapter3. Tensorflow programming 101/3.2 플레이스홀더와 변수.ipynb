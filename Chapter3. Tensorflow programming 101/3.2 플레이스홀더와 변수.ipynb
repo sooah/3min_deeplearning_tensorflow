{
 "cells": [
  {
   "cell_type": "markdown",
   "metadata": {},
   "source": [
    "3.2 플레이스홀더와 변수\n",
    "---------------------------------\n",
    "1. place holder : 그래프에 사용할 입력값을 나중에 받기 위해 사용하는 매개변수\n",
    "2. 변수 : 그래프를 최적화하는 용도로 텐서플로가 학습한 결과를 갱신하기 위해 사용하는 변수 -> 신경만의 성능을 좌우하게 됨"
   ]
  },
  {
   "cell_type": "code",
   "execution_count": 2,
   "metadata": {},
   "outputs": [
    {
     "name": "stderr",
     "output_type": "stream",
     "text": [
      "C:\\Users\\soual\\Anaconda3\\lib\\site-packages\\h5py\\__init__.py:36: FutureWarning: Conversion of the second argument of issubdtype from `float` to `np.floating` is deprecated. In future, it will be treated as `np.float64 == np.dtype(float).type`.\n",
      "  from ._conv import register_converters as _register_converters\n"
     ]
    }
   ],
   "source": [
    "import tensorflow as tf"
   ]
  },
  {
   "cell_type": "code",
   "execution_count": 3,
   "metadata": {},
   "outputs": [
    {
     "name": "stdout",
     "output_type": "stream",
     "text": [
      "Tensor(\"Placeholder:0\", shape=(?, 3), dtype=float32)\n"
     ]
    }
   ],
   "source": [
    "# None은 크기가 정해지지 않았음을 의미한다.\n",
    "X = tf.placeholder(tf.float32, [None, 3])\n",
    "print(X)"
   ]
  },
  {
   "cell_type": "markdown",
   "metadata": {},
   "source": [
    "X에 넣을 자료를 정의가능함\n",
    "-> 텐서 모양을 (?,3)으로 정의 \n",
    "-> 두번째 차원은 요소를 3개씩 가지고 있어야 한다!"
   ]
  },
  {
   "cell_type": "code",
   "execution_count": 4,
   "metadata": {},
   "outputs": [],
   "source": [
    "x_data = [[1, 2, 3], [4, 5, 6]]"
   ]
  },
  {
   "cell_type": "code",
   "execution_count": 5,
   "metadata": {},
   "outputs": [],
   "source": [
    "W = tf.Variable(tf.random_normal([3, 2]))\n",
    "b = tf.Variable(tf.random_normal([2, 1]))"
   ]
  },
  {
   "cell_type": "markdown",
   "metadata": {},
   "source": [
    "W와 b에 텐서플로의 변수를 생성하여 할당한다.\n",
    "W는 [3,2], b는 [2,1]의 행렬형태의 텐서로, tf.random_normal 함수를 이용해 정규분포의 무작위 값으로 초기화한다.\n",
    "이때, 다른 생성 함수를 사용하거나, 직접 원하는 텐서의 형태의 데이터를 만들어서 넣어줄 수도 있다.\n",
    "<pre>\n",
    "W = tf.Variable([[0.1, 0.1], [0.2, 0.2]. [0.3, 0.3]])\n",
    "<code>"
   ]
  },
  {
   "cell_type": "code",
   "execution_count": 6,
   "metadata": {},
   "outputs": [],
   "source": [
    "expr = tf.matmul(X,W) + b"
   ]
  },
  {
   "cell_type": "markdown",
   "metadata": {},
   "source": [
    "입력값과 변수들을 계산할 수식을 작성한다. \n",
    "* X와 W가 행렬이기 떄문에 tf.matmul 함수를 사용한다.\n",
    "* 행렬이 아닌 경우 단순히 곱셈연산자 (*) 나 tf.mul 함수를 사용한다."
   ]
  },
  {
   "cell_type": "markdown",
   "metadata": {},
   "source": [
    "### 행렬곱\n",
    "* 행렬곱  A X B 에 대하여, 행렬 A의 열 수와 행렬 B의 행 수는 같아야 한다.\n",
    "* 행렬곱  A X B 를 계산한 행렬 AB의 크기는 A의 행 개수와 B의 열 개수가 된다. "
   ]
  },
  {
   "cell_type": "code",
   "execution_count": 8,
   "metadata": {},
   "outputs": [
    {
     "name": "stdout",
     "output_type": "stream",
     "text": [
      "=== x_data ===\n",
      "[[1, 2, 3], [4, 5, 6]]\n",
      "=== W ===\n",
      "[[ 0.674883    0.37948853]\n",
      " [-0.16904144  1.3863375 ]\n",
      " [ 0.72677356 -0.05603038]]\n",
      "=== b ===\n",
      "[[-1.6526308]\n",
      " [ 1.5284811]]\n",
      "=== expr ===\n",
      "[[0.86449003 1.3314416 ]\n",
      " [7.7434473  9.64194   ]]\n"
     ]
    }
   ],
   "source": [
    "sess = tf.Session()\n",
    "sess.run(tf.global_variables_initializer())\n",
    "\n",
    "print(\"=== x_data ===\")\n",
    "print(x_data)\n",
    "print(\"=== W ===\")\n",
    "print(sess.run(W))\n",
    "print(\"=== b ===\")\n",
    "print(sess.run(b))\n",
    "print(\"=== expr ===\")\n",
    "print(sess.run(expr, feed_dict = {X: x_data}))\n",
    "\n",
    "sess.close()"
   ]
  },
  {
   "cell_type": "markdown",
   "metadata": {},
   "source": [
    "tf.global_variables_initializer는 앞에서 정의한 변수들을 초기화하는 함수\n",
    "> 기존에 학습한 값들을 가져와서 사용하는 것이 아닌 처음 실행하는 것이라면, 연산을 실행하기 전에 반드시 이 함수를 이용해 변수들을 초기화 해야한다.\n",
    "\n",
    "feed_dict 매개변수는 그래프를 실행할 때 사용할 입력값을 지정한다.\n",
    "\n",
    "expr 수식에는 X, W, b의 값을 사용했는데, 이중 X가 플레이스홀더라 X에 값을 넣어주지 않는다면 계산에 사용할 값이 없으므로 에라가 난다. \n",
    "따라서 미리 정의해둔 x_data를 X의 값으로 사용한다. "
   ]
  },
  {
   "cell_type": "code",
   "execution_count": null,
   "metadata": {},
   "outputs": [],
   "source": []
  }
 ],
 "metadata": {
  "kernelspec": {
   "display_name": "Python 3",
   "language": "python",
   "name": "python3"
  },
  "language_info": {
   "codemirror_mode": {
    "name": "ipython",
    "version": 3
   },
   "file_extension": ".py",
   "mimetype": "text/x-python",
   "name": "python",
   "nbconvert_exporter": "python",
   "pygments_lexer": "ipython3",
   "version": "3.6.5"
  }
 },
 "nbformat": 4,
 "nbformat_minor": 2
}
