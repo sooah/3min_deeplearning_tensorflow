{
 "cells": [
  {
   "cell_type": "markdown",
   "metadata": {},
   "source": [
    "Ch3 . 텐서플로 프로그래밍 101\n",
    "======================\n",
    "3.1 텐서와 그래프 실행\n",
    "-------------------------------"
   ]
  },
  {
   "cell_type": "code",
   "execution_count": 5,
   "metadata": {},
   "outputs": [],
   "source": [
    "import tensorflow as tf"
   ]
  },
  {
   "cell_type": "code",
   "execution_count": 6,
   "metadata": {},
   "outputs": [
    {
     "name": "stdout",
     "output_type": "stream",
     "text": [
      "Tensor(\"Const_1:0\", shape=(), dtype=string)\n"
     ]
    }
   ],
   "source": [
    "hello = tf.constant('Hello, Tensorflow')\n",
    "print(hello)"
   ]
  },
  {
   "cell_type": "markdown",
   "metadata": {},
   "source": [
    "* hello \n",
    "> - 자료형 : tensor\n",
    "> - 상수를 담고 있음\n",
    "\n",
    "* tensor : 텐서플로에서 다양한 수학식을 계산하기 위한 가장 기본적이고 중요한 자료형\n",
    "> - rank, shape 개념을 갖고 있음\n",
    "\n",
    "* rank : 차원의 수를 나타냄\n",
    "> - rank 0 : scalar\n",
    "> - rank 1 : vector\n",
    "> - rank 2 : matrix\n",
    "> - rank 3 ~ : n-Tensor / n차원 텐서\n",
    "\n",
    "* shape : 각 차원의 요소 갯수 -> 텐서의 구조를 설명\n",
    "> - 3                               # rank 0 ; shape []\n",
    "> - [1., 2. 3.]                     # rank 1 ; shape [3]\n",
    "> - [[1.,2.,3.], [4., 5., 6.]]      # rank 2 ; shape [2,3]\n",
    "> - [[[1., 2., 3.]], [7., 8., 9.]]] # rank 3 ; shape [2,1,3]\n",
    "\n",
    "\n",
    "* dtype : 해당 텐서에 담긴 요소들의 자료형 \n",
    "> string, float, int 등 가능"
   ]
  },
  {
   "cell_type": "code",
   "execution_count": 7,
   "metadata": {},
   "outputs": [
    {
     "name": "stdout",
     "output_type": "stream",
     "text": [
      "Tensor(\"Add:0\", shape=(), dtype=int32)\n"
     ]
    }
   ],
   "source": [
    "a = tf.constant(10)\n",
    "b = tf.constant(32)\n",
    "c = tf.add(a,b)\n",
    "print(c)"
   ]
  },
  {
   "cell_type": "markdown",
   "metadata": {},
   "source": [
    "위의 결과 42가 아닌 tensor가 나오는 것을 확인할 수 있다. \n",
    "\n",
    "## 텐서플로 프로그램의 구조가 다음 2가지로 분리되어 있음\n",
    "1. 그래프 생성\n",
    "<pre>\n",
    "a = tf.constant(10)\n",
    "b = tf.constant(32)\n",
    "c = tf.add(a,b)\n",
    "<code>\n",
    "\n",
    "a 에 10을 저장하고, b에 32를 저장한 다음 c에 더해 놓는 것 까지! \n",
    "\n",
    "2. 그래프 실행\n",
    "<pre>\n",
    "sess.run(c)\n",
    "<code>\n",
    "\n",
    "c라는 연산을 수행한 결과 값을 보여주게 됨!\n",
    "\n",
    "* 그래프 : tensor들의 연산 모음\n",
    "> tensorflow : 텐서와 텐서의 연산 먼저 정의 -> 그래프 만듦 -> 이후 필요할 떄 연산 실행 코드를 넣어 '원하는 지점'에 실제 연산 수행\n",
    "=> 지연실행 방법 (lazy evaluation) <- 함수 프로그래밍에서 많이 사용"
   ]
  },
  {
   "cell_type": "code",
   "execution_count": 9,
   "metadata": {},
   "outputs": [
    {
     "name": "stdout",
     "output_type": "stream",
     "text": [
      "b'Hello, Tensorflow'\n",
      "[10, 32, 42]\n"
     ]
    }
   ],
   "source": [
    "sess = tf.Session()\n",
    "\n",
    "print(sess.run(hello))\n",
    "print(sess.run([a,b,c]))\n",
    "\n",
    "sess.close()"
   ]
  },
  {
   "cell_type": "markdown",
   "metadata": {},
   "source": [
    "그래프의 실행은 Session 안에서 이뤄져야 함\n",
    "session 객체와 run 방법을 이용하면 된다."
   ]
  },
  {
   "cell_type": "code",
   "execution_count": 10,
   "metadata": {},
   "outputs": [
    {
     "name": "stdout",
     "output_type": "stream",
     "text": [
      "Tensor(\"Placeholder:0\", shape=(?, 3), dtype=float32)\n"
     ]
    }
   ],
   "source": [
    "# None은 크기가 정해지지 않았음을 의미한다.\n",
    "X = tf.placeholder(tf.float32, [None, 3])\n",
    "print(X)"
   ]
  },
  {
   "cell_type": "markdown",
   "metadata": {},
   "source": []
  },
  {
   "cell_type": "markdown",
   "metadata": {},
   "source": [
    "X에 넣을 자료를 정의가능함\n",
    "-> 텐서 모양을 (?,3)으로 정의 \n",
    "-> 두번째 차원은 요소를 3개씩 가지고 있어야 한다!"
   ]
  },
  {
   "cell_type": "code",
   "execution_count": 11,
   "metadata": {},
   "outputs": [],
   "source": [
    "x_data = [[1, 2, 3], [4, 5, 6]]"
   ]
  },
  {
   "cell_type": "code",
   "execution_count": 12,
   "metadata": {},
   "outputs": [],
   "source": [
    "W = tf.Variable(tf.random_normal([3, 2]))\n",
    "b = tf.Variable(tf.random_normal([2, 1]))"
   ]
  },
  {
   "cell_type": "markdown",
   "metadata": {},
   "source": [
    "W와 b에 텐서플로의 변수를 생성하여 할당한다.\n",
    "W는 [3,2], b는 [2,1]의 행렬형태의 텐서로, tf.random_normal 함수를 이용해 정규분포의 무작위 값으로 초기화한다.\n",
    "이때, 다른 생성 함수를 사용하거나, 직접 원하는 텐서의 형태의 데이터를 만들어서 넣어줄 수도 있다.\n",
    "<pre>\n",
    "W = tf.Variable([[0.1, 0.1], [0.2, 0.2]. [0.3, 0.3]])\n",
    "<code>"
   ]
  },
  {
   "cell_type": "code",
   "execution_count": 13,
   "metadata": {},
   "outputs": [],
   "source": [
    "expr = tf.matmul(X,W) + b"
   ]
  },
  {
   "cell_type": "markdown",
   "metadata": {},
   "source": [
    "입력값과 변수들을 계산할 수식을 작성한다. \n",
    "* X와 W가 행렬이기 떄문에 tf.matmul 함수를 사용한다.\n",
    "* 행렬이 아닌 경우 단순히 곱셈연산자 (*) 나 tf.mul 함수를 사용한다."
   ]
  },
  {
   "cell_type": "markdown",
   "metadata": {},
   "source": [
    "### 행렬곱\n",
    "* 행렬곱  A X B 에 대하여, 행렬 A의 열 수와 행렬 B의 행 수는 같아야 한다.\n",
    "* 행렬곱  A X B 를 계산한 행렬 AB의 크기는 A의 행 개수와 B의 열 개수가 된다. "
   ]
  },
  {
   "cell_type": "code",
   "execution_count": 16,
   "metadata": {},
   "outputs": [
    {
     "name": "stdout",
     "output_type": "stream",
     "text": [
      "=== x_data ===\n",
      "[[1, 2, 3], [4, 5, 6]]\n",
      "=== W ===\n",
      "[[-1.4167143  -0.36121407]\n",
      " [ 0.14927205  0.33650607]\n",
      " [-0.7535148   0.78867215]]\n",
      "=== b ===\n",
      "[[ 0.84317756]\n",
      " [-0.6308894 ]]\n",
      "=== expr ===\n",
      "[[ -2.5355372   3.520992 ]\n",
      " [-10.072475    4.3388176]]\n"
     ]
    }
   ],
   "source": [
    "sess = tf.Session()\n",
    "sess.run(tf.global_variables_initializer())\n",
    "\n",
    "print(\"=== x_data ===\")\n",
    "print(x_data)\n",
    "print(\"=== W ===\")\n",
    "print(sess.run(W))\n",
    "print(\"=== b ===\")\n",
    "print(sess.run(b))\n",
    "print(\"=== expr ===\")\n",
    "print(sess.run(expr, feed_dict = {X: x_data}))\n",
    "\n",
    "sess.close()"
   ]
  },
  {
   "cell_type": "markdown",
   "metadata": {},
   "source": [
    "tf.global_variables_initializer는 앞에서 정의한 변수들을 초기화하는 함수\n",
    "> 기존에 학습한 값들을 가져와서 사용하는 것이 아닌 처음 실행하는 것이라면, 연산을 실행하기 전에 반드시 이 함수를 이용해 변수들을 초기화 해야한다.\n",
    "\n",
    "feed_dict 매개변수는 그래프를 실행할 때 사용할 입력값을 지정한다.\n",
    "\n",
    "expr 수식에는 X, W, b의 값을 사용했는데, 이중 X가 플레이스홀더라 X에 값을 넣어주지 않는다면 계산에 사용할 값이 없으므로 에라가 난다. \n",
    "따라서 미리 정의해둔 x_data를 X의 값으로 사용한다. "
   ]
  },
  {
   "cell_type": "code",
   "execution_count": 18,
   "metadata": {},
   "outputs": [
    {
     "name": "stdout",
     "output_type": "stream",
     "text": [
      "Tensor(\"Placeholder_2:0\", shape=(?, 3), dtype=float32)\n",
      "=== x_data ===\n",
      "[[1, 2, 3], [4, 5, 6]]\n",
      "=== W ===\n",
      "[[-1.276627   -0.2978756 ]\n",
      " [ 0.11252449 -0.6578365 ]\n",
      " [ 2.2665966   1.675789  ]]\n",
      "=== b ===\n",
      "[[ 0.7384755 ]\n",
      " [-0.16631424]]\n",
      "=== expr ===\n",
      "[[6.4866867 4.1522937]\n",
      " [8.8893795 5.4077353]]\n"
     ]
    }
   ],
   "source": [
    "##전체 코드\n",
    "import tensorflow as tf\n",
    "\n",
    "X = tf.placeholder(tf.float32, [None, 3])\n",
    "print(X)\n",
    "\n",
    "x_data = [[1,2,3], [4,5,6]]\n",
    "\n",
    "W = tf.Variable(tf.random_normal([3,2]))\n",
    "b = tf.Variable(tf.random_normal([2,1]))\n",
    "\n",
    "expr = tf.matmul(X, W) + b\n",
    "\n",
    "sess = tf.Session()\n",
    "sess.run(tf.global_variables_initializer())\n",
    "\n",
    "print(\"=== x_data ===\")\n",
    "print(x_data)\n",
    "print(\"=== W ===\")\n",
    "print(sess.run(W))\n",
    "print(\"=== b ===\")\n",
    "print(sess.run(b))\n",
    "print(\"=== expr ===\")\n",
    "print(sess.run(expr, feed_dict = {X : x_data}))\n",
    "\n",
    "sess.close()"
   ]
  }
 ],
 "metadata": {
  "kernelspec": {
   "display_name": "Python 3",
   "language": "python",
   "name": "python3"
  },
  "language_info": {
   "codemirror_mode": {
    "name": "ipython",
    "version": 3
   },
   "file_extension": ".py",
   "mimetype": "text/x-python",
   "name": "python",
   "nbconvert_exporter": "python",
   "pygments_lexer": "ipython3",
   "version": "3.6.5"
  }
 },
 "nbformat": 4,
 "nbformat_minor": 2
}
